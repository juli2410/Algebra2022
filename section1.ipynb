{
 "cells": [
  {
   "cell_type": "markdown",
   "metadata": {},
   "source": [
    "# Toy Kit\n",
    "## Programas para la instalación\n",
    "Para esta clase se sugiere instalar 4 programas basicamente, \n",
    "* [Anaconda](https://www.anaconda.com/)\n",
    "* [Python 3.0](https://www.python.org/downloads/windows/)\n",
    "* [VS code](https://code.visualstudio.com/download) \n",
    "* [Git](https://git-scm.com/book/en/v2/Getting-Started-Installing-Git)\n",
    "\n",
    "El primero, es un entorno de programación usado para el manejo de grandes datos y machine learn, cuando usted instala este, inmediatemante instala Python. Además le puede dar la opción de instalar VS code y [VS code](https://code.visualstudio.com/download) y [spyder](https://www.spyder-ide.org/), los cuales son entornos iteractivos para Python. El lenguaje de progrmación con el cual se programaran los algoritmos es Python. VS code es el interprete para muchos lenguajes de programación y tiene muchas ventajas frente a sus competencias y es software libre. Por último vamos a usar Git, el cual es un gestor de cambios, el cual nos permite trabajar con GitHub.  Para la instalación de cada uno de estos software se puede remitir a sus paginas oficiales.\n",
    "\n"
   ]
  },
  {
   "cell_type": "markdown",
   "metadata": {},
   "source": [
    "# Introducción a Phyton\n",
    "## Variables \n",
    "Existen tres tipos de variables numéricas **float**, **complex** y **int** "
   ]
  },
  {
   "cell_type": "code",
   "execution_count": 1,
   "metadata": {},
   "outputs": [
    {
     "data": {
      "text/plain": [
       "5.0"
      ]
     },
     "execution_count": 1,
     "metadata": {},
     "output_type": "execute_result"
    }
   ],
   "source": [
    "float(5.0)"
   ]
  },
  {
   "cell_type": "code",
   "execution_count": 2,
   "metadata": {},
   "outputs": [
    {
     "data": {
      "text/plain": [
       "5"
      ]
     },
     "execution_count": 2,
     "metadata": {},
     "output_type": "execute_result"
    }
   ],
   "source": [
    "int(5.3)"
   ]
  },
  {
   "cell_type": "code",
   "execution_count": 3,
   "metadata": {},
   "outputs": [
    {
     "data": {
      "text/plain": [
       "(1+2j)"
      ]
     },
     "execution_count": 3,
     "metadata": {},
     "output_type": "execute_result"
    }
   ],
   "source": [
    "complex(1,2)"
   ]
  },
  {
   "cell_type": "markdown",
   "metadata": {},
   "source": []
  },
  {
   "cell_type": "markdown",
   "metadata": {},
   "source": [
    "## Operaciones aritméticas \n",
    "\n",
    "Simbolos |Operaciones \n",
    "-----|-----\n",
    " +| suma\n",
    "*|Multiplicación\n",
    "/|División de numeros flotantes\n",
    "//|División de números enteros\n",
    "%|Módulo\n",
    "**|Exponencial\n"
   ]
  },
  {
   "cell_type": "code",
   "execution_count": 4,
   "metadata": {},
   "outputs": [
    {
     "data": {
      "text/plain": [
       "2.0"
      ]
     },
     "execution_count": 4,
     "metadata": {},
     "output_type": "execute_result"
    }
   ],
   "source": [
    "(2.0+8.0j).real"
   ]
  },
  {
   "cell_type": "code",
   "execution_count": 5,
   "metadata": {},
   "outputs": [
    {
     "data": {
      "text/plain": [
       "5.3"
      ]
     },
     "execution_count": 5,
     "metadata": {},
     "output_type": "execute_result"
    }
   ],
   "source": [
    "(4.0+5.3j).imag"
   ]
  },
  {
   "cell_type": "markdown",
   "metadata": {},
   "source": [
    "Para las operaciones matemáticas usted debe importar la libreria [math](https://docs.python.org/3/library/math.html) la cual la debe importar con "
   ]
  },
  {
   "cell_type": "code",
   "execution_count": 6,
   "metadata": {},
   "outputs": [
    {
     "data": {
      "text/plain": [
       "2.0"
      ]
     },
     "execution_count": 6,
     "metadata": {},
     "output_type": "execute_result"
    }
   ],
   "source": [
    "import math as ma\n",
    "ma.sqrt(4.0)"
   ]
  },
  {
   "cell_type": "markdown",
   "metadata": {},
   "source": [
    "Aqui podemos generar variables de la siguiente forma "
   ]
  },
  {
   "cell_type": "code",
   "execution_count": 7,
   "metadata": {},
   "outputs": [],
   "source": [
    "a=2"
   ]
  },
  {
   "cell_type": "code",
   "execution_count": 8,
   "metadata": {},
   "outputs": [
    {
     "data": {
      "text/plain": [
       "int"
      ]
     },
     "execution_count": 8,
     "metadata": {},
     "output_type": "execute_result"
    }
   ],
   "source": [
    "type(a) # con este comando puede usted ver que tipo de variable esta guardada"
   ]
  },
  {
   "cell_type": "markdown",
   "metadata": {},
   "source": []
  },
  {
   "cell_type": "markdown",
   "metadata": {},
   "source": [
    "Podemos comprara variables y numéros con los siguientes comando \n",
    "\n",
    "\n",
    "Simbolos |Operaciones \n",
    "-----|-----\n",
    " ==| igual\n",
    " !=| diferente\n",
    " <|menor que\n",
    " <=|menor igual que\n",
    " $>$|mayor que\n",
    " $>=$|mayor e igual que\n",
    " "
   ]
  },
  {
   "cell_type": "code",
   "execution_count": 9,
   "metadata": {},
   "outputs": [
    {
     "data": {
      "text/plain": [
       "False"
      ]
     },
     "execution_count": 9,
     "metadata": {},
     "output_type": "execute_result"
    }
   ],
   "source": [
    "4==5"
   ]
  },
  {
   "cell_type": "markdown",
   "metadata": {},
   "source": [
    "## Operadores lógicos\n",
    "Los operadores lógicos en Python son \n",
    ">and  \n",
    ">or\n",
    ">not"
   ]
  },
  {
   "cell_type": "markdown",
   "metadata": {},
   "source": [
    "Que diferencia existe con la siguiente sintaxis\n",
    ">from math import *\n",
    "\n",
    "y \n",
    "\n",
    ">import math "
   ]
  },
  {
   "cell_type": "markdown",
   "metadata": {},
   "source": [
    "# Strings\n",
    "En python podemos almacenar texto para ello podemos escribir una variable (no mutables)"
   ]
  },
  {
   "cell_type": "code",
   "execution_count": 10,
   "metadata": {},
   "outputs": [
    {
     "name": "stdout",
     "output_type": "stream",
     "text": [
      "hola mundo\n"
     ]
    }
   ],
   "source": [
    "a = \"hola mundo\"\n",
    "print(a)"
   ]
  },
  {
   "cell_type": "markdown",
   "metadata": {},
   "source": [
    "Vemos aqui que la variable \"a\" guarda el string \"hola mundo\". Note que aqui la variable esta enumerada desde el 0 a 9"
   ]
  },
  {
   "cell_type": "code",
   "execution_count": 11,
   "metadata": {},
   "outputs": [
    {
     "name": "stdout",
     "output_type": "stream",
     "text": [
      "h\n"
     ]
    }
   ],
   "source": [
    "print(a[0])"
   ]
  },
  {
   "cell_type": "code",
   "execution_count": 12,
   "metadata": {},
   "outputs": [
    {
     "name": "stdout",
     "output_type": "stream",
     "text": [
      "hola mundo 42\n"
     ]
    }
   ],
   "source": [
    "a=\"hola\"\n",
    "b=\"mundo\"\n",
    "print(a+\" \"+b+\" \"+str( 42))"
   ]
  },
  {
   "cell_type": "markdown",
   "metadata": {},
   "source": [
    "Podemos usar diferentes comandos para usar correctamente la función print, de esta forma [Escape Sequences](https://www.python-ds.com/python-3-escape-sequences) ya algunos \n",
    "[metodos de impresión](https://www.w3schools.com/python/python_ref_string.asp).\n",
    "\n",
    "# Listas\n",
    "Las listas es un objeto mutable en Python, para definir la sintaxis debemos usar corchetes de la siguiente forma \n",
    ">lista=[2.0,4.1,0.5,[2.3,0.6],\"hola\"]  \n",
    "note que la lista tiene 5 objetos, desde la posición 0 a la posición 4. De esta forma las posiciones 0,1 y 2 son números y la posición 3 es otra lista y la posición 4 es un string.\n",
    "Para obtener la información de la lista o el string podemos "
   ]
  },
  {
   "cell_type": "code",
   "execution_count": 13,
   "metadata": {},
   "outputs": [
    {
     "data": {
      "text/plain": [
       "'h'"
      ]
     },
     "execution_count": 13,
     "metadata": {},
     "output_type": "execute_result"
    }
   ],
   "source": [
    "lista = [2.0, 4.1, 0.5, [2.3, 0.6], \"hola\"]\n",
    "lista[4][0]"
   ]
  },
  {
   "cell_type": "markdown",
   "metadata": {},
   "source": [
    "# Algunos comando de la lista de metodos \n",
    "\n",
    "Métodos |Descripción \n",
    "-----|-----\n",
    " append(elemento)| agregar elemento al final de la lista\n",
    " extend(lis2)| extender la lista con los ementos de la lista 2\n",
    " index(element)|Devuelve el índice más bajo de la lista que contiene elementos.\n",
    " insert(index,element)|iserta elemento para el indice index\n",
    " pop()|elimina o devuelve el último elemento de la lista\n",
    " reverse(element)|Invierte la lista de lugar\n",
    " remove(element)|Elimna la primera aparición del elemento de la lista\n",
    " sort()|Clasiica la lista en lugar\n",
    " copy()|retorna la copia de la lista\n",
    " count(element)|Retorna el némero de elementos igual al elemento de la lista"
   ]
  },
  {
   "cell_type": "code",
   "execution_count": 14,
   "metadata": {},
   "outputs": [
    {
     "name": "stdout",
     "output_type": "stream",
     "text": [
      "[1, 2, [1, 2]]\n"
     ]
    }
   ],
   "source": [
    "q=[1,2]\n",
    "q.append([1,2])\n",
    "print(q)"
   ]
  },
  {
   "cell_type": "code",
   "execution_count": 15,
   "metadata": {},
   "outputs": [
    {
     "name": "stdout",
     "output_type": "stream",
     "text": [
      "[1, 2, 1, 2]\n",
      "[1, 1, 2]\n"
     ]
    }
   ],
   "source": [
    "a=[1,2]\n",
    "a.extend([1,2])\n",
    "print(a)\n",
    "a.remove(2)\n",
    "print(a)"
   ]
  },
  {
   "cell_type": "markdown",
   "metadata": {},
   "source": [
    "Si usted quiere ordenar una lista, dejando esta sin cambios usted puede usar la función sorted\n",
    "\n",
    ">q=[\"a\",\"b\",\"d\",\"c\"]\n",
    "\n",
    ">b=sorted(q)\n",
    "\n",
    ">b=[\"a\",\"b\",\"c\",\"d\"]\n",
    "\n",
    "note que la lista q no es modificada. Además puede usar\n",
    "\n",
    ">s=[1,2,3,0,-5]\n",
    "\n",
    ">sorted(s,reverse=True)\n",
    " "
   ]
  },
  {
   "cell_type": "markdown",
   "metadata": {},
   "source": [
    "# Tuplas\n",
    "Uan tupla es similar a una lista pero esta no se puede modificar. Para construcción use ()\n",
    "\n",
    ">t=(1, 2.'a','c')"
   ]
  },
  {
   "cell_type": "code",
   "execution_count": 16,
   "metadata": {},
   "outputs": [
    {
     "data": {
      "text/plain": [
       "2"
      ]
     },
     "execution_count": 16,
     "metadata": {},
     "output_type": "execute_result"
    }
   ],
   "source": [
    "t = (1, 2,'a', 'c')\n",
    "t[1]\n"
   ]
  },
  {
   "cell_type": "markdown",
   "metadata": {},
   "source": [
    "Si intentamos modificar \n",
    "\n",
    ">>t[2] = 4\n",
    "\n",
    ">>Traceback (most recent call last ):\n",
    "\n",
    ">>File \"<stdin >\", line 1, in <module >\n",
    ">>TypeError : 'tuple ' object does not support item assignment\n",
    "\n",
    "Muchas veces para asignación simples de tuplas no se necesita parentisis como se muestra"
   ]
  },
  {
   "cell_type": "code",
   "execution_count": 17,
   "metadata": {},
   "outputs": [
    {
     "name": "stdout",
     "output_type": "stream",
     "text": [
      "(1, 2, 3)\n"
     ]
    }
   ],
   "source": [
    "t=1,2,3\n",
    "print(t)"
   ]
  },
  {
   "cell_type": "markdown",
   "metadata": {},
   "source": [
    "o se puede usar la siguiente forma8c"
   ]
  },
  {
   "cell_type": "code",
   "execution_count": 18,
   "metadata": {},
   "outputs": [
    {
     "name": "stdout",
     "output_type": "stream",
     "text": [
      "a=12,b=98,c=13\n"
     ]
    }
   ],
   "source": [
    "a, b, c =12, 98,13\n",
    "print(\"a=\" +str(a)+\",b=\"+str(b)+\",c=\"+str(c))"
   ]
  },
  {
   "cell_type": "code",
   "execution_count": 19,
   "metadata": {},
   "outputs": [
    {
     "data": {
      "text/plain": [
       "True"
      ]
     },
     "execution_count": 19,
     "metadata": {},
     "output_type": "execute_result"
    }
   ],
   "source": [
    "a = [5, 4, 3, 2, 1]\n",
    "b=a\n",
    "b is a"
   ]
  },
  {
   "cell_type": "code",
   "execution_count": 20,
   "metadata": {},
   "outputs": [
    {
     "name": "stdout",
     "output_type": "stream",
     "text": [
      "[5, 4, 3, 2, 1]\n"
     ]
    }
   ],
   "source": [
    "b=list(a)\n",
    "b is a\n",
    "print(b)"
   ]
  },
  {
   "cell_type": "markdown",
   "metadata": {},
   "source": [
    "# Operador [any](https://www.programiz.com/python-programming/methods/built-in/any)  y [all](https://www.programiz.com/python-programming/methods/built-in/all)\n",
    "\n",
    "La función any() retorna True si cualquier elemento del objeto es True. Si no, any() retorna False\n",
    "\n",
    "La función  all() retorna True si todos los elemento en una iteración dada son verdaderon. Si no, retorna False"
   ]
  },
  {
   "cell_type": "code",
   "execution_count": 21,
   "metadata": {},
   "outputs": [
    {
     "name": "stdout",
     "output_type": "stream",
     "text": [
      "True\n",
      "False\n",
      "True\n",
      "False\n"
     ]
    }
   ],
   "source": [
    "# True Dado que  1,3 y 4 (o almenos uno) son verdaderos\n",
    "l = [1, 3, 4, 0]\n",
    "print(any(l))\n",
    "\n",
    "# False porque amboos son falsos\n",
    "l = [0, False]\n",
    "print(any(l))\n",
    "\n",
    "# True Dado que 5 es verdadero\n",
    "l = [0, False, 5]\n",
    "print(any(l))\n",
    "\n",
    "# False dado que el objeto esta vacio\n",
    "l = []\n",
    "print(any(l))\n"
   ]
  },
  {
   "cell_type": "code",
   "execution_count": 22,
   "metadata": {},
   "outputs": [
    {
     "name": "stdout",
     "output_type": "stream",
     "text": [
      "True\n",
      "True\n",
      "False\n"
     ]
    }
   ],
   "source": [
    "# Al menos uno (de hecho, todos) los elementos son verdaderos\n",
    "s = \"This is good\"\n",
    "print(any(s))\n",
    "\n",
    "# 0 es False\n",
    "# '0' es True dado que es un caracter string \n",
    "s = '000'\n",
    "print(any(s))\n",
    "\n",
    "# False dado que la iteración esta vacia\n",
    "s = ''\n",
    "print(any(s))\n"
   ]
  },
  {
   "cell_type": "markdown",
   "metadata": {},
   "source": [
    "# Loop\n",
    "Alguna veces es necsario llamar items en un objeto iterativo uno por uno y hacer algo con cada uno a la vez.\n",
    "En python, se puede usar la iteración con un número entero en cada item cmo en C y Matlab, adicionalmente \n",
    "es posible usar un lenguaje natural de la forma\n",
    ">for item in iterable_object:"
   ]
  },
  {
   "cell_type": "code",
   "execution_count": 23,
   "metadata": {},
   "outputs": [
    {
     "name": "stdout",
     "output_type": "stream",
     "text": [
      "rojo\n",
      "verde\n",
      "azul\n",
      "blanco\n"
     ]
    }
   ],
   "source": [
    "lista_de_colores = ['rojo', 'verde', 'azul', 'blanco']\n",
    "for color in lista_de_colores:\n",
    "    print(color)\n"
   ]
  },
  {
   "cell_type": "markdown",
   "metadata": {},
   "source": [
    "Otra forma de hacer esto seria usando el objeto range  produce\n",
    ">range(0,3)   # 0, 1, 2 \n",
    "Note, que no toma el último elemento\n",
    ">range(1,6)   # 1, 2, 3, 4, 5\n",
    ">range(0,6,2) # 0, 2,4\n",
    ">range(10,0-2) # 10, 8, 6, 4, 2"
   ]
  },
  {
   "cell_type": "code",
   "execution_count": 24,
   "metadata": {},
   "outputs": [
    {
     "name": "stdout",
     "output_type": "stream",
     "text": [
      "rojo\n",
      "verde\n",
      "azul\n",
      "blanco\n"
     ]
    }
   ],
   "source": [
    "lista_de_colores = ['rojo', 'verde', 'azul', 'blanco']\n",
    "for j in range(0, 4):\n",
    "    print(lista_de_colores[j])\n"
   ]
  },
  {
   "cell_type": "markdown",
   "metadata": {},
   "source": [
    "Note que en ambos casos se debe usar la tabulación  y los :. Además cuando se usa range(0,4), no toma el último elemento.\n",
    "\n",
    "## Ejemplos adicionales "
   ]
  },
  {
   "cell_type": "code",
   "execution_count": 25,
   "metadata": {},
   "outputs": [
    {
     "name": "stdout",
     "output_type": "stream",
     "text": [
      "r.o.j.o.\n",
      "v.e.r.d.e.\n",
      "a.z.u.l.\n",
      "b.l.a.n.c.o.\n"
     ]
    }
   ],
   "source": [
    "lista_de_colores = ['rojo', 'verde', 'azul', 'blanco']\n",
    "for color in lista_de_colores:\n",
    "    for letra in color:\n",
    "        print(letra,end='.')\n",
    "    print()\n"
   ]
  },
  {
   "cell_type": "markdown",
   "metadata": {},
   "source": [
    "# Enumerate\n",
    "Producen una tupla (recuento, elemento), que consiste en\n",
    "de un índice de conteo y el artículo en sí:\n"
   ]
  },
  {
   "cell_type": "code",
   "execution_count": 26,
   "metadata": {},
   "outputs": [
    {
     "name": "stdout",
     "output_type": "stream",
     "text": [
      "0 rojo\n",
      "1 verde\n",
      "2 azul\n",
      "3 blanco\n"
     ]
    }
   ],
   "source": [
    "lista_de_colores = ['rojo', 'verde', 'azul', 'blanco']\n",
    "for item, color in enumerate(lista_de_colores):\n",
    "    print(item, color)\n"
   ]
  },
  {
   "cell_type": "markdown",
   "metadata": {},
   "source": [
    "# Zip \n",
    "Si se quiere incrementar dos  o más secuaencias al mismo tiempo "
   ]
  },
  {
   "cell_type": "code",
   "execution_count": 27,
   "metadata": {},
   "outputs": [
    {
     "name": "stdout",
     "output_type": "stream",
     "text": [
      "(1, 'rojo', 'hola')\n",
      "(2, 'verde', 0)\n",
      "(3, 'azul', [2, 2])\n",
      "(4, 'blanco', 3)\n"
     ]
    }
   ],
   "source": [
    "a = [1, 2, 3, 4]\n",
    "b = ['rojo', 'verde', 'azul', 'blanco']\n",
    "c=['hola',0,[2,2],3]\n",
    "\n",
    "for item in zip(a, b,c):\n",
    "    print(item)\n",
    "\n",
    "\n"
   ]
  },
  {
   "cell_type": "markdown",
   "metadata": {},
   "source": [
    "Note que tanto como zip y enumerate son objetos subscritable, es decir no se puede numerar o no se pude eescribir de la forma \n",
    ">z=zip(a,b)\n",
    "\n",
    ">z[0]\n",
    "\n",
    "TypeError : 'zip ' object is not subscriptable\n"
   ]
  },
  {
   "cell_type": "markdown",
   "metadata": {},
   "source": [
    "# Control de flujo\n",
    "## If\n",
    "La sintanxis del es\n",
    "\n",
    ">if < logical expression 1 >:\n",
    "\n",
    ">    <statements 1 >\n",
    "\n",
    ">elif < logical expression 2 >:\n",
    "\n",
    ">    <statements 2 >\n",
    "\n",
    ">...\n",
    "\n",
    ">else:\n",
    "\n",
    ">    <statements >\n",
    "\n",
    "La sintaxis de if es similar a la de otros lenguajes de programación"
   ]
  },
  {
   "cell_type": "code",
   "execution_count": 28,
   "metadata": {},
   "outputs": [
    {
     "name": "stdout",
     "output_type": "stream",
     "text": [
      "0 is less than or equal to three \n",
      "1 is less than or equal to three \n",
      "2 is less than or equal to three \n",
      "3 is less than or equal to three \n",
      "4 must be four or five , then \n",
      "5 must be four or five , then \n",
      "6 is greater than five \n",
      "7 is greater than five \n",
      "8 is greater than five \n",
      "9 is greater than five \n"
     ]
    }
   ],
   "source": [
    "for x in range(10):\n",
    "    if x <= 3:\n",
    "        print(x, 'is less than or equal to three ')\n",
    "    elif x > 5:\n",
    "        print(x, 'is greater than five ')\n",
    "    else:\n",
    "        print(x, 'must be four or five , then ')\n"
   ]
  },
  {
   "cell_type": "markdown",
   "metadata": {},
   "source": [
    "# While\n",
    "Este es un loop de iteración "
   ]
  },
  {
   "cell_type": "code",
   "execution_count": 29,
   "metadata": {},
   "outputs": [
    {
     "name": "stdout",
     "output_type": "stream",
     "text": [
      "1,2,3,4,5,6,7,8,9,10,\n"
     ]
    }
   ],
   "source": [
    "i=0\n",
    "while i<10:\n",
    "    i+=1\n",
    "    print(i,end=',')\n",
    "print()\n"
   ]
  },
  {
   "cell_type": "markdown",
   "metadata": {},
   "source": [
    "Un ejemplo más interesante del uso de un bucle while viene dado por\n",
    "esta implementación del algoritmo de Euclides para encontrar el máximo común divisor de\n",
    "dos números, mcd (a, b):"
   ]
  },
  {
   "cell_type": "code",
   "execution_count": 30,
   "metadata": {},
   "outputs": [
    {
     "name": "stdout",
     "output_type": "stream",
     "text": [
      "21\n"
     ]
    }
   ],
   "source": [
    "a,b=1071,462\n",
    "while b:  # mientras b sea diferente a cero haga\n",
    "    a,b=b,a%b\n",
    "print(a)\n"
   ]
  },
  {
   "cell_type": "markdown",
   "metadata": {},
   "source": [
    "# Comandos de conrol de flujo de Python\n",
    "Python tiene provisto  estamento de control de flujo, brak, continue, pass  y else\n",
    "## break \n",
    "Este comando sale de un bucle inmediatamente termina el bucle y continua con la siguinete  línea despues del bucle\n"
   ]
  },
  {
   "cell_type": "code",
   "execution_count": 31,
   "metadata": {},
   "outputs": [
    {
     "name": "stdout",
     "output_type": "stream",
     "text": [
      "75 es divisible por 15 y 25\n"
     ]
    }
   ],
   "source": [
    "x=0\n",
    "while True:\n",
    "    x+=1\n",
    "    if not (x%15 or x%25):\n",
    "        break\n",
    "print(x,'es divisible por 15 y 25')\n"
   ]
  },
  {
   "cell_type": "code",
   "execution_count": 32,
   "metadata": {},
   "outputs": [
    {
     "name": "stdout",
     "output_type": "stream",
     "text": [
      "-2 ocurre en el índece 3\n"
     ]
    }
   ],
   "source": [
    "alist = [0, 4, 5, -2, 5, 10]\n",
    "for i, a in enumerate(alist):\n",
    "    if a < 0:\n",
    "        break\n",
    "print(a, 'ocurre en el índece', i)\n"
   ]
  },
  {
   "cell_type": "markdown",
   "metadata": {},
   "source": [
    "## continue \n",
    "Continue es un estamento similar a break, pero en lugar de salir del ciclo que esta contenido en el bucle, este \n",
    "fuerza a la nueva iteración del bucle sin completar las intrucciones del bloque de la actual iteración "
   ]
  },
  {
   "cell_type": "code",
   "execution_count": 33,
   "metadata": {},
   "outputs": [
    {
     "name": "stdout",
     "output_type": "stream",
     "text": [
      "2 is even!\n",
      "4 is even!\n",
      "6 is even!\n",
      "8 is even!\n",
      "10 is even!\n"
     ]
    }
   ],
   "source": [
    "for i in range(1, 11):\n",
    "    if i % 2:\n",
    "        continue\n",
    "    print(i, 'is even!')\n"
   ]
  },
  {
   "cell_type": "markdown",
   "metadata": {},
   "source": [
    "## pass \n",
    "\n",
    "El comando de paso no hace nada. Es útil como un \"código auxiliar\" para el código que aún no se ha escrito, pero donde una declaración se equipara \n",
    "sintácticamente con los espacios en blanco de Python."
   ]
  },
  {
   "cell_type": "code",
   "execution_count": 34,
   "metadata": {},
   "outputs": [
    {
     "name": "stdout",
     "output_type": "stream",
     "text": [
      "3 is divisible by 3\n",
      "6 is divisible by 3\n",
      "9 is divisible by 3\n"
     ]
    }
   ],
   "source": [
    "for i in range(1, 11):\n",
    "    if i == 6:\n",
    "        pass # do something special if i is 6\n",
    "    if not i % 3:\n",
    "        print(i, 'is divisible by 3')\n"
   ]
  },
  {
   "cell_type": "markdown",
   "metadata": {},
   "source": [
    "# else\n",
    "Un bucle for o while puede ir seguido de un bloque de instrucciones else, que se ejecutará solo si el bucle finalizó \"normalmente\""
   ]
  },
  {
   "cell_type": "code",
   "execution_count": 35,
   "metadata": {},
   "outputs": [
    {
     "name": "stdout",
     "output_type": "stream",
     "text": [
      "no negative numbers in the list \n"
     ]
    }
   ],
   "source": [
    "alist = [0, 4, 5, 2, 5, 10]\n",
    "for i, a in enumerate(alist):\n",
    "    if a < 0:\n",
    "        print(a, 'occurs at index ', i)\n",
    "        break\n",
    "else:\n",
    "    print('no negative numbers in the list ')\n",
    "\n"
   ]
  },
  {
   "cell_type": "code",
   "execution_count": 36,
   "metadata": {},
   "outputs": [
    {
     "name": "stdout",
     "output_type": "stream",
     "text": [
      "1013 is prime !\n"
     ]
    }
   ],
   "source": [
    "a = 1013\n",
    "b = a - 1\n",
    "while b != 1:\n",
    "    if not a % b:\n",
    "        print('the largest factor of', a, 'is ', b)\n",
    "        break\n",
    "    b -= 1\n",
    "else:\n",
    "    print(a, 'is prime !')\n"
   ]
  },
  {
   "cell_type": "markdown",
   "metadata": {},
   "source": [
    "# Archivo de salida\n",
    "Muchas veces necesitamos que nuestros cálculos sean escritos en un archivo externo y no solamente escritos en la consola. Para ello \n",
    "usamos Python file, o necesitamos ingresar unos datosd desde un archivo externo.  Para ello podemos usar la siguiente tabla de argumetos \n",
    "\n",
    "Argumetno  |Descripción \n",
    "-----|-----\n",
    "r| Textp, leer solamente\n",
    "w| Texto, escribir ( si existe un archivo con el mismo nombre este lo sobreescribe)\n",
    "a|Texto, adjuntar el texto al archivo ya existente \n",
    "r+|Texto, leer y escribir\n",
    "rb|Binario, leer solamente\n",
    "wb|binario, escribir ( si existe un archivo con el mismo nombre este lo sobreescribe)\n",
    "ab|Binario, adjuntar el texto al archivo ya existente\n",
    "rb+|Binario leer y escribir\n",
    "\n",
    "Para usar los estamento anteriores, utilizamos la sunción open  como se indica  \n",
    "\n",
    ">f=open('myfile.txt','w')\n",
    "\n",
    "aqui crea un objeto llamado f, endonde indica el nombre del archivo al que se va a guardar y dependiendo de la tabla quee stamento se \n",
    "va a usar. Para escribir dentro de este estamento podemos usar (despúes de usar open)\n",
    "\n",
    ">>f.write('hola mundo')\n",
    "\n",
    "o \n",
    "\n",
    ">>print(35,'CL',2),sep='',file=f)\n",
    "\n",
    "por último debemos cerrar el archivo. Note que el comando \n",
    "\n",
    ">sep=''\n",
    "\n",
    "son estamentos para el uso de print, en este caso indica como debe separar cada ingreso. Escribe ?? print para obtener más información\n",
    "help(print)\n",
    "\n",
    "\n"
   ]
  },
  {
   "cell_type": "code",
   "execution_count": 37,
   "metadata": {},
   "outputs": [],
   "source": [
    "f = open('powers .txt ', 'w')\n",
    "for i in range(1, 1001):\n",
    "    print(i, i**2, i**3, i**4, sep=', ', file=f)\n",
    "f. close()"
   ]
  },
  {
   "cell_type": "code",
   "execution_count": 38,
   "metadata": {},
   "outputs": [],
   "source": [
    "f = open('powers .txt ', 'w')\n",
    "for i in range(1, 1001):\n",
    "    print(i, i**2, i**3, i**4, sep=', ', file=f)\n",
    "f. close()\n"
   ]
  },
  {
   "cell_type": "code",
   "execution_count": 39,
   "metadata": {},
   "outputs": [],
   "source": [
    "f = open('powers .txt ', 'r')\n",
    "squares, cubes, fourths = [], [], []\n",
    "for line in f. readlines():\n",
    "    fields = line.split(',')\n",
    "    squares . append(int(fields[1]))\n",
    "    cubes. append(int(fields[2]))\n",
    "    fourths . append(int(fields[3]))\n",
    "f. close()\n"
   ]
  },
  {
   "cell_type": "markdown",
   "metadata": {},
   "source": [
    "# Funciones\n",
    "## Definición de funciones \n",
    "Para definir una función en Python es necesario tres partes, encabezado, cuerpo y retorno. Para llamar la función \n",
    "debemos usar el encabezado. Ejemplo"
   ]
  },
  {
   "cell_type": "code",
   "execution_count": 40,
   "metadata": {},
   "outputs": [
    {
     "name": "stdout",
     "output_type": "stream",
     "text": [
      "4.0\n"
     ]
    }
   ],
   "source": [
    "def cuadrado(x):   # encabezado de la función\n",
    "    x_cuadrado=x**2 # cuerpo\n",
    "    return x_cuadrado #retorno  \n",
    "## llamar la función \n",
    "s=cuadrado(2.0)\n",
    "print(s)"
   ]
  },
  {
   "cell_type": "markdown",
   "metadata": {},
   "source": [
    "Puede ser más de un argumetno que se ingresa en la función, ya sea listas, tuplas o string"
   ]
  },
  {
   "cell_type": "code",
   "execution_count": 41,
   "metadata": {},
   "outputs": [
    {
     "name": "stdout",
     "output_type": "stream",
     "text": [
      "1 5.2 hola\n"
     ]
    }
   ],
   "source": [
    "def ejemplo(x,a,s):\n",
    "    print(x[0],a[1],s)\n",
    "    return\n",
    "x=[1,2.3]\n",
    "a=(2,5.2,6)\n",
    "s='hola'\n",
    "ejemplo(x,a,s)"
   ]
  },
  {
   "cell_type": "markdown",
   "metadata": {},
   "source": [
    "En phyton es posible pasar los argumentos en desorden de la siguiente forma "
   ]
  },
  {
   "cell_type": "code",
   "execution_count": 42,
   "metadata": {},
   "outputs": [
    {
     "name": "stdout",
     "output_type": "stream",
     "text": [
      "1 5.2 hola\n"
     ]
    }
   ],
   "source": [
    "def ejemplo(x, a, s):\n",
    "    print(x[0], a[1], s)\n",
    "    return\n",
    "\n",
    "\n",
    "p = [1, 2.3]\n",
    "h = (2, 5.2, 6)\n",
    "f = 'hola'\n",
    "ejemplo(s=f, x=p, a=h)\n"
   ]
  },
  {
   "cell_type": "markdown",
   "metadata": {},
   "source": [
    "Caundo se quiere haccer una programación [modulada](https://docs.python.org/3/tutorial/modules.html), es decir crear varios archivos o fichero, lo cual ayuda a la manotención estas se deben importar \n",
    "\n",
    "* Fichero 1\n",
    "# Fibonacci numbers module\n",
    "\n",
    ">def fib(n):    # write Fibonacci series up to n\n",
    "\n",
    ">    a, b = 0, 1\n",
    "\n",
    ">    while a < n:\n",
    "\n",
    ">        print(a, end=' ')\n",
    "\n",
    ">        a, b = b, a+b\n",
    "\n",
    ">    print()\n",
    "\n",
    "> def fib2(n):   # return Fibonacci series up to n\n",
    "\n",
    ">    result = []\n",
    "\n",
    ">    a, b = 0, 1\n",
    "\n",
    ">    while a < n:\n",
    "\n",
    ">        result.append(a)\n",
    "\n",
    ">        a, b = b, a+b\n",
    "\n",
    ">    return result\n",
    "\n",
    "\n",
    "# fuchero 2\n",
    "\n",
    "> import fibo\n",
    "\n",
    "> fibo.fib(1000)\n",
    "\n",
    "> 0 1 1 2 3 5 8 13 21 34 55 89 144 233 377 610 987"
   ]
  },
  {
   "cell_type": "code",
   "execution_count": 43,
   "metadata": {},
   "outputs": [
    {
     "name": "stdout",
     "output_type": "stream",
     "text": [
      "3 6 hola [1, 2, 3] (1, 2, 3)\n"
     ]
    },
    {
     "data": {
      "text/plain": [
       "tuple"
      ]
     },
     "execution_count": 43,
     "metadata": {},
     "output_type": "execute_result"
    }
   ],
   "source": [
    "def prueba(f):\n",
    "    return f,2*f, 'hola',[1,2, 3],(1,2,3)\n",
    "a1,a2,a3,a4,a5=prueba(3)\n",
    "\n",
    "print(a1,a2,a3,a4,a5)\n",
    "type(a5)"
   ]
  },
  {
   "cell_type": "code",
   "execution_count": 44,
   "metadata": {},
   "outputs": [
    {
     "data": {
      "text/plain": [
       "[2, 10]"
      ]
     },
     "execution_count": 44,
     "metadata": {},
     "output_type": "execute_result"
    }
   ],
   "source": [
    "def prueba1(s):\n",
    "    s=[2,5*s]\n",
    "    return s\n",
    "prueba1(2)"
   ]
  },
  {
   "cell_type": "code",
   "execution_count": 45,
   "metadata": {},
   "outputs": [
    {
     "data": {
      "text/plain": [
       "'The length is 10.10 m '"
      ]
     },
     "execution_count": 45,
     "metadata": {},
     "output_type": "execute_result"
    }
   ],
   "source": [
    "default_units = 'm'\n",
    "def report_length(value, units=default_units):\n",
    "    return 'The length is {:.2f} {} '. format(value, units)\n",
    "\n",
    "\n",
    "report_length(10.1)\n",
    "\n",
    "\n"
   ]
  },
  {
   "cell_type": "markdown",
   "metadata": {},
   "source": [
    "# Funciones [anónimas](https://j2logo.com/python/funciones-lambda-en-python/) en Python\n",
    "Pdemos definir un tipo de función llamada funciones anónimas, con la función lambda\n",
    "\n",
    "> lambda parámetros: acción\n",
    "\n",
    "un ejemplo de ello seria \n",
    "\n",
    ">def mult(x, y):\n",
    "\n",
    ">    return x * y\n",
    "\n",
    "en lugar podriamos usar \n",
    "\n",
    " >multiplica = lambda x, y: x * y"
   ]
  },
  {
   "cell_type": "code",
   "execution_count": 46,
   "metadata": {},
   "outputs": [
    {
     "name": "stdout",
     "output_type": "stream",
     "text": [
      "4\n",
      "9\n",
      "(1, 2, 3)\n"
     ]
    }
   ],
   "source": [
    "\n",
    "global x  #declara una variable global\n",
    "x=2\n",
    "def prueba(n):\n",
    "    global s   # declara una variable global desde una función \n",
    "    s=n*x\n",
    "    return s\n",
    "def prueba2(t):\n",
    "    t=s+x+t\n",
    "    return t\n",
    "print(prueba(2))\n",
    "print(prueba2(3))\n",
    "print(t)\n",
    "\n",
    "    \n"
   ]
  },
  {
   "cell_type": "markdown",
   "metadata": {},
   "source": [
    "# Funciones  [argumentos con valores por omisión](https://docs.python.org/es/3/tutorial/controlflow.html#defining-functions)\n",
    "La forma más útil es especificar un valor por omisión para uno o más argumentos. Esto crea una función que puede ser llamada con menos argumentos que los que permite."
   ]
  },
  {
   "cell_type": "code",
   "execution_count": 47,
   "metadata": {},
   "outputs": [
    {
     "name": "stdout",
     "output_type": "stream",
     "text": [
      "200\n",
      "20.0\n",
      "20.0\n"
     ]
    }
   ],
   "source": [
    "def omi(peso,altura=2.0):\n",
    "    s=altura*peso\n",
    "    return s\n",
    "print(omi(altura=20,peso=10))\n",
    "print(omi(peso=10))\n",
    "print(omi(10))"
   ]
  },
  {
   "cell_type": "markdown",
   "metadata": {},
   "source": [
    "**Advertencia importante:** El valor por omisión es evaluado solo una vez. Existe una diferencia cuando el valor por omisión es un objeto mutable como una lista, diccionario, o instancia de la mayoría de las clases. Por ejemplo, la siguiente función acumula los argumentos que se le pasan en subsiguientes llamadas:"
   ]
  },
  {
   "cell_type": "code",
   "execution_count": 48,
   "metadata": {},
   "outputs": [
    {
     "name": "stdout",
     "output_type": "stream",
     "text": [
      "[1, 2, 1]\n",
      "[1, 2, 1, 2]\n",
      "[1, 2, 1, 2, 3]\n"
     ]
    }
   ],
   "source": [
    "def f(a, L=[1,2]):\n",
    "    L.append(a)\n",
    "    return L\n",
    "\n",
    "\n",
    "print(f(1))\n",
    "print(f(2))\n",
    "print(f(3))\n",
    "\n"
   ]
  }
 ],
 "metadata": {
  "interpreter": {
   "hash": "0f8d560b4f954a663ef2d2eb0a025ee4f44603e4aca358b90fe4e7eb3bb12b2e"
  },
  "kernelspec": {
   "display_name": "Python 3 (ipykernel)",
   "language": "python",
   "name": "python3"
  },
  "language_info": {
   "codemirror_mode": {
    "name": "ipython",
    "version": 3
   },
   "file_extension": ".py",
   "mimetype": "text/x-python",
   "name": "python",
   "nbconvert_exporter": "python",
   "pygments_lexer": "ipython3",
   "version": "3.8.11"
  }
 },
 "nbformat": 4,
 "nbformat_minor": 2
}
