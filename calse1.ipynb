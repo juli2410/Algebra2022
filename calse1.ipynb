{
 "cells": [
  {
   "cell_type": "markdown",
   "source": [
    "# Clase modelización y simulación I\n",
    "## Programas para la instalación\n",
    "Para esta clase se sugiere instalar 4 programas basicamente, \n",
    "* [Anaconda](https://www.anaconda.com/)\n",
    "* [Python 3.0](https://www.python.org/downloads/windows/)\n",
    "* [VS code](https://code.visualstudio.com/download) \n",
    "* [Git](https://git-scm.com/book/en/v2/Getting-Started-Installing-Git)\n",
    "\n",
    "El primero, es un entorno de programación usado para el manejo de grandes datos y machine learn, cuando usted instala este, inmediatemante instala Python. Además le puede dar la opción de instalar VS code y [VS code](https://code.visualstudio.com/download) y [spyder](https://www.spyder-ide.org/), los cuales son entornos iteractivos para Python. El lenguaje de progrmación con el cual se programaran los algoritmos es Python. VS code es el interprete para muchos lenguajes de programación y tiene muchas ventajas frente a sus competencias y es software libre. Por último vamos a usar Git, el cual es un gestor de cambios, el cual nos permite trabajar con GitHub.  Para la instalación de cada uno de estos software se puede remitir a sus paginas oficiales.\n",
    "\n"
   ],
   "metadata": {}
  },
  {
   "cell_type": "markdown",
   "source": [
    "# Introducción a Phyton\n",
    "## Variables \n",
    "Existen tres tipos de variables numéricas **float**, **complex** y **int** "
   ],
   "metadata": {}
  },
  {
   "cell_type": "code",
   "execution_count": 1,
   "source": [
    "float(5.0)"
   ],
   "outputs": [
    {
     "output_type": "execute_result",
     "data": {
      "text/plain": [
       "5.0"
      ]
     },
     "metadata": {},
     "execution_count": 1
    }
   ],
   "metadata": {}
  },
  {
   "cell_type": "code",
   "execution_count": 2,
   "source": [
    "int(5.3)"
   ],
   "outputs": [
    {
     "output_type": "execute_result",
     "data": {
      "text/plain": [
       "5"
      ]
     },
     "metadata": {},
     "execution_count": 2
    }
   ],
   "metadata": {}
  },
  {
   "cell_type": "code",
   "execution_count": 3,
   "source": [
    "complex(1,2)"
   ],
   "outputs": [
    {
     "output_type": "execute_result",
     "data": {
      "text/plain": [
       "(1+2j)"
      ]
     },
     "metadata": {},
     "execution_count": 3
    }
   ],
   "metadata": {}
  },
  {
   "cell_type": "markdown",
   "source": [],
   "metadata": {}
  },
  {
   "cell_type": "markdown",
   "source": [
    "## Operaciones aritméticas \r\n",
    "\r\n",
    "Simbolos |Operaciones \r\n",
    "-----|-----\r\n",
    " +| suma\r\n",
    "*|Multiplicación\r\n",
    "/|División de numeros flotantes\r\n",
    "//|División de números enteros\r\n",
    "%|Módulo\r\n",
    "**|Exponencial\r\n"
   ],
   "metadata": {}
  },
  {
   "cell_type": "code",
   "execution_count": 4,
   "source": [
    "(2.0+8.0j).real"
   ],
   "outputs": [
    {
     "output_type": "execute_result",
     "data": {
      "text/plain": [
       "2.0"
      ]
     },
     "metadata": {},
     "execution_count": 4
    }
   ],
   "metadata": {}
  },
  {
   "cell_type": "code",
   "execution_count": 5,
   "source": [
    "(4.0+5.3j).imag"
   ],
   "outputs": [
    {
     "output_type": "execute_result",
     "data": {
      "text/plain": [
       "5.3"
      ]
     },
     "metadata": {},
     "execution_count": 5
    }
   ],
   "metadata": {}
  },
  {
   "cell_type": "markdown",
   "source": [
    "Para las operaciones matemáticas usted debe importar la libreria [math](https://docs.python.org/3/library/math.html) la cual la debe importar con "
   ],
   "metadata": {}
  },
  {
   "cell_type": "code",
   "execution_count": 6,
   "source": [
    "import math as ma\r\n",
    "ma.sqrt(4.0)"
   ],
   "outputs": [
    {
     "output_type": "execute_result",
     "data": {
      "text/plain": [
       "2.0"
      ]
     },
     "metadata": {},
     "execution_count": 6
    }
   ],
   "metadata": {}
  },
  {
   "cell_type": "markdown",
   "source": [
    "Aqui podemos generar variables de la siguiente forma "
   ],
   "metadata": {}
  },
  {
   "cell_type": "code",
   "execution_count": 7,
   "source": [
    "a=2"
   ],
   "outputs": [],
   "metadata": {}
  },
  {
   "cell_type": "code",
   "execution_count": 8,
   "source": [
    "type(a) # con este comando puede usted ver que tipo de variable esta guardada"
   ],
   "outputs": [
    {
     "output_type": "execute_result",
     "data": {
      "text/plain": [
       "int"
      ]
     },
     "metadata": {},
     "execution_count": 8
    }
   ],
   "metadata": {}
  },
  {
   "cell_type": "markdown",
   "source": [],
   "metadata": {}
  },
  {
   "cell_type": "markdown",
   "source": [
    "Podemos comprara variables y numéros con los siguientes comando \r\n",
    "\r\n",
    "\r\n",
    "Simbolos |Operaciones \r\n",
    "-----|-----\r\n",
    " ==| igual\r\n",
    " !=| diferente\r\n",
    " <|menor que\r\n",
    " <=|menor igual que\r\n",
    " $>$|mayor que\r\n",
    " $>=$|mayor e igual que\r\n",
    " "
   ],
   "metadata": {}
  },
  {
   "cell_type": "code",
   "execution_count": 9,
   "source": [
    "4==5"
   ],
   "outputs": [
    {
     "output_type": "execute_result",
     "data": {
      "text/plain": [
       "False"
      ]
     },
     "metadata": {},
     "execution_count": 9
    }
   ],
   "metadata": {}
  },
  {
   "cell_type": "markdown",
   "source": [
    "## Operadores lógicos\r\n",
    "Los operadores lógicos en Python son \r\n",
    ">and  \r\n",
    ">or\r\n",
    ">not"
   ],
   "metadata": {}
  },
  {
   "cell_type": "markdown",
   "source": [
    "Que diferencia existe con la siguiente sintaxis\r\n",
    ">from math import *\r\n",
    "\r\n",
    "y \r\n",
    "\r\n",
    ">import math "
   ],
   "metadata": {}
  },
  {
   "cell_type": "markdown",
   "source": [
    "# Strings\r\n",
    "En python podemos almacenar texto para ello podemos escribir una variable (no mutables)"
   ],
   "metadata": {}
  },
  {
   "cell_type": "code",
   "execution_count": 10,
   "source": [
    "a = \"hola mundo\"\r\n",
    "print(a)"
   ],
   "outputs": [
    {
     "output_type": "stream",
     "name": "stdout",
     "text": [
      "hola mundo\n"
     ]
    }
   ],
   "metadata": {}
  },
  {
   "cell_type": "markdown",
   "source": [
    "Vemos aqui que la variable \"a\" guarda el string \"hola mundo\". Note que aqui la variable esta enumerada desde el 0 a 9"
   ],
   "metadata": {}
  },
  {
   "cell_type": "code",
   "execution_count": 11,
   "source": [
    "print(a[0])"
   ],
   "outputs": [
    {
     "output_type": "stream",
     "name": "stdout",
     "text": [
      "h\n"
     ]
    }
   ],
   "metadata": {}
  },
  {
   "cell_type": "code",
   "execution_count": 12,
   "source": [
    "a=\"hola\"\r\n",
    "b=\"mundo\"\r\n",
    "print(a+\" \"+b+\" \"+str( 42))"
   ],
   "outputs": [
    {
     "output_type": "stream",
     "name": "stdout",
     "text": [
      "hola mundo 42\n"
     ]
    }
   ],
   "metadata": {}
  },
  {
   "cell_type": "markdown",
   "source": [
    "Podemos usar diferentes comandos para usar correctamente la función print, de esta forma [Escape Sequences](https://www.python-ds.com/python-3-escape-sequences) ya algunos \r\n",
    "[metodos de impresión](https://www.w3schools.com/python/python_ref_string.asp).\r\n",
    "\r\n",
    "# Listas\r\n",
    "Las listas es un objeto mutable en Python, para definir la sintaxis debemos usar corchetes de la siguiente forma \r\n",
    ">lista=[2.0,4.1,0.5,[2.3,0.6],\"hola\"]  \r\n",
    "note que la lista tiene 5 objetos, desde la posición 0 a la posición 4. De esta forma las posiciones 0,1 y 2 son números y la posición 3 es otra lista y la posición 4 es un string.\r\n",
    "Para obtener la información de la lista o el string podemos "
   ],
   "metadata": {}
  },
  {
   "cell_type": "code",
   "execution_count": 13,
   "source": [
    "lista = [2.0, 4.1, 0.5, [2.3, 0.6], \"hola\"]\r\n",
    "lista[4][0]"
   ],
   "outputs": [
    {
     "output_type": "execute_result",
     "data": {
      "text/plain": [
       "'h'"
      ]
     },
     "metadata": {},
     "execution_count": 13
    }
   ],
   "metadata": {}
  },
  {
   "cell_type": "markdown",
   "source": [
    "# Algunos comando de la lista de metodos \r\n",
    "\r\n",
    "Métodos |Descripción \r\n",
    "-----|-----\r\n",
    " append(elemento)| agregar elemento al final de la lista\r\n",
    " extend(lis2)| extender la lista con los ementos de la lista 2\r\n",
    " index(element)|Devuelve el índice más bajo de la lista que contiene elementos.\r\n",
    " insert(index,element)|iserta elemento para el indice index\r\n",
    " pop()|elimina o devuelve el último elemento de la lista\r\n",
    " reverse(element)|Invierte la lista de lugar\r\n",
    " remove(element)|Elimna la primera aparición del elemento de la lista\r\n",
    " sort()|Clasiica la lista en lugar\r\n",
    " copy()|retorna la copia de la lista\r\n",
    " count(element)|Retorna el némero de elementos igual al elemento de la lista"
   ],
   "metadata": {}
  },
  {
   "cell_type": "code",
   "execution_count": 14,
   "source": [
    "q=[1,2]\r\n",
    "q.append([1,2])\r\n",
    "print(q)"
   ],
   "outputs": [
    {
     "output_type": "stream",
     "name": "stdout",
     "text": [
      "[1, 2, [1, 2]]\n"
     ]
    }
   ],
   "metadata": {}
  },
  {
   "cell_type": "code",
   "execution_count": 15,
   "source": [
    "a=[1,2]\r\n",
    "a.extend([1,2])\r\n",
    "print(a)\r\n",
    "a.remove(2)\r\n",
    "print(a)"
   ],
   "outputs": [
    {
     "output_type": "stream",
     "name": "stdout",
     "text": [
      "[1, 2, 1, 2]\n",
      "[1, 1, 2]\n"
     ]
    }
   ],
   "metadata": {}
  },
  {
   "cell_type": "markdown",
   "source": [
    "Si usted quiere ordenar una lista, dejando esta sin cambios usted puede usar la función sorted\r\n",
    "\r\n",
    ">q=[\"a\",\"b\",\"d\",\"c\"]\r\n",
    "\r\n",
    ">b=sorted(q)\r\n",
    "\r\n",
    ">b=[\"a\",\"b\",\"c\",\"d\"]\r\n",
    "\r\n",
    "note que la lista q no es modificada. Además puede usar\r\n",
    "\r\n",
    ">s=[1,2,3,0,-5]\r\n",
    "\r\n",
    ">sorted(s,reverse=True)\r\n",
    " "
   ],
   "metadata": {}
  },
  {
   "cell_type": "markdown",
   "source": [
    "# Tuplas\r\n",
    "Uan tupla es similar a una lista pero esta no se puede modificar. Para construcción use ()\r\n",
    "\r\n",
    ">t=(1, 2.'a','c')"
   ],
   "metadata": {}
  },
  {
   "cell_type": "code",
   "execution_count": 16,
   "source": [
    "t = (1, 2,'a', 'c')\r\n",
    "t[1]\r\n"
   ],
   "outputs": [
    {
     "output_type": "execute_result",
     "data": {
      "text/plain": [
       "2"
      ]
     },
     "metadata": {},
     "execution_count": 16
    }
   ],
   "metadata": {}
  },
  {
   "cell_type": "markdown",
   "source": [
    "Si intentamos modificar \r\n",
    "\r\n",
    ">>t[2] = 4\r\n",
    "\r\n",
    ">>Traceback (most recent call last ):\r\n",
    "\r\n",
    ">>File \"<stdin >\", line 1, in <module >\r\n",
    ">>TypeError : 'tuple ' object does not support item assignment\r\n",
    "\r\n",
    "Muchas veces para asignación simples de tuplas no se necesita parentisis como se muestra"
   ],
   "metadata": {}
  },
  {
   "cell_type": "code",
   "execution_count": 17,
   "source": [
    "t=1,2,3\r\n",
    "print(t)"
   ],
   "outputs": [
    {
     "output_type": "stream",
     "name": "stdout",
     "text": [
      "(1, 2, 3)\n"
     ]
    }
   ],
   "metadata": {}
  },
  {
   "cell_type": "markdown",
   "source": [
    "o se puede usar la siguiente forma8c"
   ],
   "metadata": {}
  },
  {
   "cell_type": "code",
   "execution_count": 18,
   "source": [
    "a, b, c =12, 98,13\r\n",
    "print(\"a=\" +str(a)+\",b=\"+str(b)+\",c=\"+str(c))"
   ],
   "outputs": [
    {
     "output_type": "stream",
     "name": "stdout",
     "text": [
      "a=12,b=98,c=13\n"
     ]
    }
   ],
   "metadata": {}
  },
  {
   "cell_type": "code",
   "execution_count": 19,
   "source": [
    "a = [5, 4, 3, 2, 1]\r\n",
    "b=a\r\n",
    "b is a"
   ],
   "outputs": [
    {
     "output_type": "execute_result",
     "data": {
      "text/plain": [
       "True"
      ]
     },
     "metadata": {},
     "execution_count": 19
    }
   ],
   "metadata": {}
  },
  {
   "cell_type": "code",
   "execution_count": 20,
   "source": [
    "b=list(a)\r\n",
    "b is a\r\n",
    "print(b)"
   ],
   "outputs": [
    {
     "output_type": "stream",
     "name": "stdout",
     "text": [
      "[5, 4, 3, 2, 1]\n"
     ]
    }
   ],
   "metadata": {}
  },
  {
   "cell_type": "markdown",
   "source": [
    "# Operador [any](https://www.programiz.com/python-programming/methods/built-in/any)  y [all](https://www.programiz.com/python-programming/methods/built-in/all)\r\n",
    "\r\n",
    "La función any() retorna True si cualquier elemento del objeto es True. Si no, any() retorna False\r\n",
    "\r\n",
    "La función  all() retorna True si todos los elemento en una iteración dada son verdaderon. Si no, retorna False"
   ],
   "metadata": {}
  },
  {
   "cell_type": "code",
   "execution_count": 21,
   "source": [
    "# True Dado que  1,3 y 4 (o almenos uno) son verdaderos\r\n",
    "l = [1, 3, 4, 0]\r\n",
    "print(any(l))\r\n",
    "\r\n",
    "# False porque amboos son falsos\r\n",
    "l = [0, False]\r\n",
    "print(any(l))\r\n",
    "\r\n",
    "# True Dado que 5 es verdadero\r\n",
    "l = [0, False, 5]\r\n",
    "print(any(l))\r\n",
    "\r\n",
    "# False dado que el objeto esta vacio\r\n",
    "l = []\r\n",
    "print(any(l))\r\n"
   ],
   "outputs": [
    {
     "output_type": "stream",
     "name": "stdout",
     "text": [
      "True\n",
      "False\n",
      "True\n",
      "False\n"
     ]
    }
   ],
   "metadata": {}
  },
  {
   "cell_type": "code",
   "execution_count": 22,
   "source": [
    "# Al menos uno (de hecho, todos) los elementos son verdaderos\r\n",
    "s = \"This is good\"\r\n",
    "print(any(s))\r\n",
    "\r\n",
    "# 0 es False\r\n",
    "# '0' es True dado que es un caracter string \r\n",
    "s = '000'\r\n",
    "print(any(s))\r\n",
    "\r\n",
    "# False dado que la iteración esta vacia\r\n",
    "s = ''\r\n",
    "print(any(s))\r\n"
   ],
   "outputs": [
    {
     "output_type": "stream",
     "name": "stdout",
     "text": [
      "True\n",
      "True\n",
      "False\n"
     ]
    }
   ],
   "metadata": {}
  },
  {
   "cell_type": "markdown",
   "source": [
    "# Loop\r\n",
    "Alguna veces es necsario llamar items en un objeto iterativo uno por uno y hacer algo con cada uno a la vez.\r\n",
    "En python, se puede usar la iteración con un número entero en cada item cmo en C y Matlab, adicionalmente \r\n",
    "es posible usar un lenguaje natural de la forma\r\n",
    ">for item in iterable_object:"
   ],
   "metadata": {}
  },
  {
   "cell_type": "code",
   "execution_count": 23,
   "source": [
    "lista_de_colores = ['rojo', 'verde', 'azul', 'blanco']\r\n",
    "for color in lista_de_colores:\r\n",
    "    print(color)\r\n"
   ],
   "outputs": [
    {
     "output_type": "stream",
     "name": "stdout",
     "text": [
      "rojo\n",
      "verde\n",
      "azul\n",
      "blanco\n"
     ]
    }
   ],
   "metadata": {}
  },
  {
   "cell_type": "markdown",
   "source": [
    "Otra forma de hacer esto seria usando el objeto range  produce\r\n",
    ">range(0,3)   # 0, 1, 2 \r\n",
    "Note, que no toma el último elemento\r\n",
    ">range(1,6)   # 1, 2, 3, 4, 5\r\n",
    ">range(0,6,2) # 0, 2,4\r\n",
    ">range(10,0-2) # 10, 8, 6, 4, 2"
   ],
   "metadata": {}
  },
  {
   "cell_type": "code",
   "execution_count": 24,
   "source": [
    "lista_de_colores = ['rojo', 'verde', 'azul', 'blanco']\r\n",
    "for j in range(0, 4):\r\n",
    "    print(lista_de_colores[j])\r\n"
   ],
   "outputs": [
    {
     "output_type": "stream",
     "name": "stdout",
     "text": [
      "rojo\n",
      "verde\n",
      "azul\n",
      "blanco\n"
     ]
    }
   ],
   "metadata": {}
  },
  {
   "cell_type": "markdown",
   "source": [
    "Note que en ambos casos se debe usar la tabulación  y los :. Además cuando se usa range(0,4), no toma el último elemento.\r\n",
    "\r\n",
    "## Ejemplos adicionales "
   ],
   "metadata": {}
  },
  {
   "cell_type": "code",
   "execution_count": 25,
   "source": [
    "lista_de_colores = ['rojo', 'verde', 'azul', 'blanco']\r\n",
    "for color in lista_de_colores:\r\n",
    "    for letra in color:\r\n",
    "        print(letra,end='.')\r\n",
    "    print()\r\n"
   ],
   "outputs": [
    {
     "output_type": "stream",
     "name": "stdout",
     "text": [
      "r.o.j.o.\n",
      "v.e.r.d.e.\n",
      "a.z.u.l.\n",
      "b.l.a.n.c.o.\n"
     ]
    }
   ],
   "metadata": {}
  },
  {
   "cell_type": "markdown",
   "source": [
    "# Enumerate\r\n",
    "Producen una tupla (recuento, elemento), que consiste en\r\n",
    "de un índice de conteo y el artículo en sí:\r\n"
   ],
   "metadata": {}
  },
  {
   "cell_type": "code",
   "execution_count": 26,
   "source": [
    "lista_de_colores = ['rojo', 'verde', 'azul', 'blanco']\r\n",
    "for item, color in enumerate(lista_de_colores):\r\n",
    "    print(item, color)\r\n"
   ],
   "outputs": [
    {
     "output_type": "stream",
     "name": "stdout",
     "text": [
      "0 rojo\n",
      "1 verde\n",
      "2 azul\n",
      "3 blanco\n"
     ]
    }
   ],
   "metadata": {}
  },
  {
   "cell_type": "markdown",
   "source": [
    "# Zip \r\n",
    "Si se quiere incrementar dos  o más secuaencias al mismo tiempo "
   ],
   "metadata": {}
  },
  {
   "cell_type": "code",
   "execution_count": 27,
   "source": [
    "a = [1, 2, 3, 4]\r\n",
    "b = ['rojo', 'verde', 'azul', 'blanco']\r\n",
    "c=['hola',0,[2,2],3]\r\n",
    "\r\n",
    "for item in zip(a, b,c):\r\n",
    "    print(item)\r\n",
    "\r\n",
    "\r\n"
   ],
   "outputs": [
    {
     "output_type": "stream",
     "name": "stdout",
     "text": [
      "(1, 'rojo', 'hola')\n",
      "(2, 'verde', 0)\n",
      "(3, 'azul', [2, 2])\n",
      "(4, 'blanco', 3)\n"
     ]
    }
   ],
   "metadata": {}
  },
  {
   "cell_type": "markdown",
   "source": [
    "Note que tanto como zip y enumerate son objetos subscritable, es decir no se puede numerar o no se pude eescribir de la forma \r\n",
    ">z=zip(a,b)\r\n",
    "\r\n",
    ">z[0]\r\n",
    "\r\n",
    "TypeError : 'zip ' object is not subscriptable\r\n"
   ],
   "metadata": {}
  },
  {
   "cell_type": "markdown",
   "source": [
    "# Control de flujo\r\n",
    "## If\r\n",
    "La sintanxis del es\r\n",
    "\r\n",
    ">if < logical expression 1 >:\r\n",
    "\r\n",
    ">    <statements 1 >\r\n",
    "\r\n",
    ">elif < logical expression 2 >:\r\n",
    "\r\n",
    ">    <statements 2 >\r\n",
    "\r\n",
    ">...\r\n",
    "\r\n",
    ">else:\r\n",
    "\r\n",
    ">    <statements >\r\n",
    "\r\n",
    "La sintaxis de if es similar a la de otros lenguajes de programación"
   ],
   "metadata": {}
  },
  {
   "cell_type": "code",
   "execution_count": 28,
   "source": [
    "for x in range(10):\r\n",
    "    if x <= 3:\r\n",
    "        print(x, 'is less than or equal to three ')\r\n",
    "    elif x > 5:\r\n",
    "        print(x, 'is greater than five ')\r\n",
    "    else:\r\n",
    "        print(x, 'must be four or five , then ')\r\n"
   ],
   "outputs": [
    {
     "output_type": "stream",
     "name": "stdout",
     "text": [
      "0 is less than or equal to three \n",
      "1 is less than or equal to three \n",
      "2 is less than or equal to three \n",
      "3 is less than or equal to three \n",
      "4 must be four or five , then \n",
      "5 must be four or five , then \n",
      "6 is greater than five \n",
      "7 is greater than five \n",
      "8 is greater than five \n",
      "9 is greater than five \n"
     ]
    }
   ],
   "metadata": {}
  },
  {
   "cell_type": "markdown",
   "source": [
    "# While\r\n",
    "Este es un loop de iteración "
   ],
   "metadata": {}
  },
  {
   "cell_type": "code",
   "execution_count": 29,
   "source": [
    "i=0\r\n",
    "while i<10:\r\n",
    "    i+=1\r\n",
    "    print(i,end=',')\r\n",
    "print()\r\n"
   ],
   "outputs": [
    {
     "output_type": "stream",
     "name": "stdout",
     "text": [
      "1,2,3,4,5,6,7,8,9,10,\n"
     ]
    }
   ],
   "metadata": {}
  },
  {
   "cell_type": "markdown",
   "source": [
    "Un ejemplo más interesante del uso de un bucle while viene dado por\r\n",
    "esta implementación del algoritmo de Euclides para encontrar el máximo común divisor de\r\n",
    "dos números, mcd (a, b):"
   ],
   "metadata": {}
  },
  {
   "cell_type": "code",
   "execution_count": 30,
   "source": [
    "a,b=1071,462\r\n",
    "while b:  # mientras b sea diferente a cero haga\r\n",
    "    a,b=b,a%b\r\n",
    "print(a)\r\n"
   ],
   "outputs": [
    {
     "output_type": "stream",
     "name": "stdout",
     "text": [
      "21\n"
     ]
    }
   ],
   "metadata": {}
  },
  {
   "cell_type": "markdown",
   "source": [
    "# Comandos de conrol de flujo de Python\r\n",
    "Python tiene provisto  estamento de control de flujo, brak, continue, pass  y else\r\n",
    "## break \r\n",
    "Este comando sale de un bucle inmediatamente termina el bucle y continua con la siguinete  línea despues del bucle\r\n"
   ],
   "metadata": {}
  },
  {
   "cell_type": "code",
   "execution_count": 31,
   "source": [
    "x=0\r\n",
    "while True:\r\n",
    "    x+=1\r\n",
    "    if not (x%15 or x%25):\r\n",
    "        break\r\n",
    "print(x,'es divisible por 15 y 25')\r\n"
   ],
   "outputs": [
    {
     "output_type": "stream",
     "name": "stdout",
     "text": [
      "75 es divisible por 15 y 25\n"
     ]
    }
   ],
   "metadata": {}
  },
  {
   "cell_type": "code",
   "execution_count": 32,
   "source": [
    "alist = [0, 4, 5, -2, 5, 10]\r\n",
    "for i, a in enumerate(alist):\r\n",
    "    if a < 0:\r\n",
    "        break\r\n",
    "print(a, 'ocurre en el índece', i)\r\n"
   ],
   "outputs": [
    {
     "output_type": "stream",
     "name": "stdout",
     "text": [
      "-2 ocurre en el índece 3\n"
     ]
    }
   ],
   "metadata": {}
  },
  {
   "cell_type": "markdown",
   "source": [
    "## continue \r\n",
    "Continue es un estamento similar a break, pero en lugar de salir del ciclo que esta contenido en el bucle, este \r\n",
    "fuerza a la nueva iteración del bucle sin completar las intrucciones del bloque de la actual iteración "
   ],
   "metadata": {}
  },
  {
   "cell_type": "code",
   "execution_count": 33,
   "source": [
    "for i in range(1, 11):\r\n",
    "    if i % 2:\r\n",
    "        continue\r\n",
    "    print(i, 'is even!')\r\n"
   ],
   "outputs": [
    {
     "output_type": "stream",
     "name": "stdout",
     "text": [
      "2 is even!\n",
      "4 is even!\n",
      "6 is even!\n",
      "8 is even!\n",
      "10 is even!\n"
     ]
    }
   ],
   "metadata": {}
  },
  {
   "cell_type": "markdown",
   "source": [
    "## pass \r\n",
    "\r\n",
    "El comando de paso no hace nada. Es útil como un \"código auxiliar\" para el código que aún no se ha escrito, pero donde una declaración se equipara \r\n",
    "sintácticamente con los espacios en blanco de Python."
   ],
   "metadata": {}
  },
  {
   "cell_type": "code",
   "execution_count": 34,
   "source": [
    "for i in range(1, 11):\r\n",
    "    if i == 6:\r\n",
    "        pass # do something special if i is 6\r\n",
    "    if not i % 3:\r\n",
    "        print(i, 'is divisible by 3')\r\n"
   ],
   "outputs": [
    {
     "output_type": "stream",
     "name": "stdout",
     "text": [
      "3 is divisible by 3\n",
      "6 is divisible by 3\n",
      "9 is divisible by 3\n"
     ]
    }
   ],
   "metadata": {}
  },
  {
   "cell_type": "markdown",
   "source": [
    "# else\r\n",
    "Un bucle for o while puede ir seguido de un bloque de instrucciones else, que se ejecutará solo si el bucle finalizó \"normalmente\""
   ],
   "metadata": {}
  },
  {
   "cell_type": "code",
   "execution_count": 35,
   "source": [
    "alist = [0, 4, 5, 2, 5, 10]\r\n",
    "for i, a in enumerate(alist):\r\n",
    "    if a < 0:\r\n",
    "        print(a, 'occurs at index ', i)\r\n",
    "        break\r\n",
    "else:\r\n",
    "    print('no negative numbers in the list ')\r\n",
    "\r\n"
   ],
   "outputs": [
    {
     "output_type": "stream",
     "name": "stdout",
     "text": [
      "no negative numbers in the list \n"
     ]
    }
   ],
   "metadata": {}
  },
  {
   "cell_type": "code",
   "execution_count": 36,
   "source": [
    "a = 1013\r\n",
    "b = a - 1\r\n",
    "while b != 1:\r\n",
    "    if not a % b:\r\n",
    "        print('the largest factor of', a, 'is ', b)\r\n",
    "        break\r\n",
    "    b -= 1\r\n",
    "else:\r\n",
    "    print(a, 'is prime !')\r\n"
   ],
   "outputs": [
    {
     "output_type": "stream",
     "name": "stdout",
     "text": [
      "1013 is prime !\n"
     ]
    }
   ],
   "metadata": {}
  },
  {
   "cell_type": "markdown",
   "source": [
    "# Archivo de salida\r\n",
    "Muchas veces necesitamos que nuestros cálculos sean escritos en un archivo externo y no solamente escritos en la consola. Para ello \r\n",
    "usamos Python file, o necesitamos ingresar unos datosd desde un archivo externo.  Para ello podemos usar la siguiente tabla de argumetos \r\n",
    "\r\n",
    "Argumetno  |Descripción \r\n",
    "-----|-----\r\n",
    "r| Textp, leer solamente\r\n",
    "w| Texto, escribir ( si existe un archivo con el mismo nombre este lo sobreescribe)\r\n",
    "a|Texto, adjuntar el texto al archivo ya existente \r\n",
    "r+|Texto, leer y escribir\r\n",
    "rb|Binario, leer solamente\r\n",
    "wb|binario, escribir ( si existe un archivo con el mismo nombre este lo sobreescribe)\r\n",
    "ab|Binario, adjuntar el texto al archivo ya existente\r\n",
    "rb+|Binario leer y escribir\r\n",
    "\r\n",
    "Para usar los estamento anteriores, utilizamos la sunción open  como se indica  \r\n",
    "\r\n",
    ">f=open('myfile.txt','w')\r\n",
    "\r\n",
    "aqui crea un objeto llamado f, endonde indica el nombre del archivo al que se va a guardar y dependiendo de la tabla quee stamento se \r\n",
    "va a usar. Para escribir dentro de este estamento podemos usar (despúes de usar open)\r\n",
    "\r\n",
    ">>f.write('hola mundo')\r\n",
    "\r\n",
    "o \r\n",
    "\r\n",
    ">>print(35,'CL',2),sep='',file=f)\r\n",
    "\r\n",
    "por último debemos cerrar el archivo. Note que el comando \r\n",
    "\r\n",
    ">sep=''\r\n",
    "\r\n",
    "son estamentos para el uso de print, en este caso indica como debe separar cada ingreso. Escribe ?? print para obtener más información\r\n",
    "help(print)\r\n",
    "\r\n",
    "\r\n"
   ],
   "metadata": {}
  },
  {
   "cell_type": "code",
   "execution_count": 37,
   "source": [
    "f = open('powers .txt ', 'w')\r\n",
    "for i in range(1, 1001):\r\n",
    "    print(i, i**2, i**3, i**4, sep=', ', file=f)\r\n",
    "f. close()"
   ],
   "outputs": [],
   "metadata": {}
  },
  {
   "cell_type": "code",
   "execution_count": 38,
   "source": [
    "f = open('powers .txt ', 'w')\r\n",
    "for i in range(1, 1001):\r\n",
    "    print(i, i**2, i**3, i**4, sep=', ', file=f)\r\n",
    "f. close()\r\n"
   ],
   "outputs": [],
   "metadata": {}
  },
  {
   "cell_type": "code",
   "execution_count": 39,
   "source": [
    "f = open('powers .txt ', 'r')\r\n",
    "squares, cubes, fourths = [], [], []\r\n",
    "for line in f. readlines():\r\n",
    "    fields = line.split(',')\r\n",
    "    squares . append(int(fields[1]))\r\n",
    "    cubes. append(int(fields[2]))\r\n",
    "    fourths . append(int(fields[3]))\r\n",
    "f. close()\r\n"
   ],
   "outputs": [],
   "metadata": {}
  },
  {
   "cell_type": "markdown",
   "source": [
    "# Funciones\r\n",
    "## Definición de funciones \r\n",
    "Para definir una función en Python es necesario tres partes, encabezado, cuerpo y retorno. Para llamar la función \r\n",
    "debemos usar el encabezado. Ejemplo"
   ],
   "metadata": {}
  },
  {
   "cell_type": "code",
   "execution_count": 40,
   "source": [
    "def cuadrado(x):   # encabezado de la función\r\n",
    "    x_cuadrado=x**2 # cuerpo\r\n",
    "    return x_cuadrado #retorno  \r\n",
    "## llamar la función \r\n",
    "s=cuadrado(2.0)\r\n",
    "print(s)"
   ],
   "outputs": [
    {
     "output_type": "stream",
     "name": "stdout",
     "text": [
      "4.0\n"
     ]
    }
   ],
   "metadata": {}
  },
  {
   "cell_type": "markdown",
   "source": [
    "Puede ser más de un argumetno que se ingresa en la función, ya sea listas, tuplas o string"
   ],
   "metadata": {}
  },
  {
   "cell_type": "code",
   "execution_count": 41,
   "source": [
    "def ejemplo(x,a,s):\r\n",
    "    print(x[0],a[1],s)\r\n",
    "    return\r\n",
    "x=[1,2.3]\r\n",
    "a=(2,5.2,6)\r\n",
    "s='hola'\r\n",
    "ejemplo(x,a,s)"
   ],
   "outputs": [
    {
     "output_type": "stream",
     "name": "stdout",
     "text": [
      "1 5.2 hola\n"
     ]
    }
   ],
   "metadata": {}
  },
  {
   "cell_type": "markdown",
   "source": [
    "En phyton es posible pasar los argumentos en desorden de la siguiente forma "
   ],
   "metadata": {}
  },
  {
   "cell_type": "code",
   "execution_count": 42,
   "source": [
    "def ejemplo(x, a, s):\r\n",
    "    print(x[0], a[1], s)\r\n",
    "    return\r\n",
    "\r\n",
    "\r\n",
    "p = [1, 2.3]\r\n",
    "h = (2, 5.2, 6)\r\n",
    "f = 'hola'\r\n",
    "ejemplo(s=f, x=p, a=h)\r\n"
   ],
   "outputs": [
    {
     "output_type": "stream",
     "name": "stdout",
     "text": [
      "1 5.2 hola\n"
     ]
    }
   ],
   "metadata": {}
  },
  {
   "cell_type": "markdown",
   "source": [
    "Caundo se quiere haccer una programación [modulada](https://docs.python.org/3/tutorial/modules.html), es decir crear varios archivos o fichero, lo cual ayuda a la manotención estas se deben importar \r\n",
    "\r\n",
    "* Fichero 1\r\n",
    "# Fibonacci numbers module\r\n",
    "\r\n",
    ">def fib(n):    # write Fibonacci series up to n\r\n",
    "\r\n",
    ">    a, b = 0, 1\r\n",
    "\r\n",
    ">    while a < n:\r\n",
    "\r\n",
    ">        print(a, end=' ')\r\n",
    "\r\n",
    ">        a, b = b, a+b\r\n",
    "\r\n",
    ">    print()\r\n",
    "\r\n",
    "> def fib2(n):   # return Fibonacci series up to n\r\n",
    "\r\n",
    ">    result = []\r\n",
    "\r\n",
    ">    a, b = 0, 1\r\n",
    "\r\n",
    ">    while a < n:\r\n",
    "\r\n",
    ">        result.append(a)\r\n",
    "\r\n",
    ">        a, b = b, a+b\r\n",
    "\r\n",
    ">    return result\r\n",
    "\r\n",
    "\r\n",
    "# fuchero 2\r\n",
    "\r\n",
    "> import fibo\r\n",
    "\r\n",
    "> fibo.fib(1000)\r\n",
    "\r\n",
    "> 0 1 1 2 3 5 8 13 21 34 55 89 144 233 377 610 987"
   ],
   "metadata": {}
  },
  {
   "cell_type": "code",
   "execution_count": 43,
   "source": [
    "def prueba(f):\r\n",
    "    return f,2*f, 'hola',[1,2, 3],(1,2,3)\r\n",
    "a1,a2,a3,a4,a5=prueba(3)\r\n",
    "\r\n",
    "print(a1,a2,a3,a4,a5)\r\n",
    "type(a5)"
   ],
   "outputs": [
    {
     "output_type": "stream",
     "name": "stdout",
     "text": [
      "3 6 hola [1, 2, 3] (1, 2, 3)\n"
     ]
    },
    {
     "output_type": "execute_result",
     "data": {
      "text/plain": [
       "tuple"
      ]
     },
     "metadata": {},
     "execution_count": 43
    }
   ],
   "metadata": {}
  },
  {
   "cell_type": "code",
   "execution_count": 44,
   "source": [
    "def prueba1(s):\r\n",
    "    s=[2,5*s]\r\n",
    "    return s\r\n",
    "prueba1(2)"
   ],
   "outputs": [
    {
     "output_type": "execute_result",
     "data": {
      "text/plain": [
       "[2, 10]"
      ]
     },
     "metadata": {},
     "execution_count": 44
    }
   ],
   "metadata": {}
  },
  {
   "cell_type": "code",
   "execution_count": 45,
   "source": [
    "default_units = 'm'\r\n",
    "def report_length(value, units=default_units):\r\n",
    "    return 'The length is {:.2f} {} '. format(value, units)\r\n",
    "\r\n",
    "\r\n",
    "report_length(10.1)\r\n",
    "\r\n",
    "\r\n"
   ],
   "outputs": [
    {
     "output_type": "execute_result",
     "data": {
      "text/plain": [
       "'The length is 10.10 m '"
      ]
     },
     "metadata": {},
     "execution_count": 45
    }
   ],
   "metadata": {}
  },
  {
   "cell_type": "markdown",
   "source": [
    "# Funciones [anónimas](https://j2logo.com/python/funciones-lambda-en-python/) en Python\r\n",
    "Pdemos definir un tipo de función llamada funciones anónimas, con la función lambda\r\n",
    "\r\n",
    "> lambda parámetros: acción\r\n",
    "\r\n",
    "un ejemplo de ello seria \r\n",
    "\r\n",
    ">def mult(x, y):\r\n",
    "\r\n",
    ">    return x * y\r\n",
    "\r\n",
    "en lugar podriamos usar \r\n",
    "\r\n",
    " >multiplica = lambda x, y: x * y"
   ],
   "metadata": {}
  },
  {
   "cell_type": "code",
   "execution_count": 46,
   "source": [
    "\r\n",
    "global x  #declara una variable global\r\n",
    "x=2\r\n",
    "def prueba(n):\r\n",
    "    global s   # declara una variable global desde una función \r\n",
    "    s=n*x\r\n",
    "    return s\r\n",
    "def prueba2(t):\r\n",
    "    t=s+x+t\r\n",
    "    return t\r\n",
    "print(prueba(2))\r\n",
    "print(prueba2(3))\r\n",
    "print(t)\r\n",
    "\r\n",
    "    \r\n"
   ],
   "outputs": [
    {
     "output_type": "stream",
     "name": "stdout",
     "text": [
      "4\n",
      "9\n",
      "(1, 2, 3)\n"
     ]
    }
   ],
   "metadata": {}
  },
  {
   "cell_type": "markdown",
   "source": [
    "# Funciones  [argumentos con valores por omisión](https://docs.python.org/es/3/tutorial/controlflow.html#defining-functions)\r\n",
    "La forma más útil es especificar un valor por omisión para uno o más argumentos. Esto crea una función que puede ser llamada con menos argumentos que los que permite."
   ],
   "metadata": {}
  },
  {
   "cell_type": "code",
   "execution_count": 47,
   "source": [
    "def omi(peso,altura=2.0):\r\n",
    "    s=altura*peso\r\n",
    "    return s\r\n",
    "print(omi(altura=20,peso=10))\r\n",
    "print(omi(peso=10))\r\n",
    "print(omi(10))"
   ],
   "outputs": [
    {
     "output_type": "stream",
     "name": "stdout",
     "text": [
      "200\n",
      "20.0\n",
      "20.0\n"
     ]
    }
   ],
   "metadata": {}
  },
  {
   "cell_type": "markdown",
   "source": [
    "**Advertencia importante:** El valor por omisión es evaluado solo una vez. Existe una diferencia cuando el valor por omisión es un objeto mutable como una lista, diccionario, o instancia de la mayoría de las clases. Por ejemplo, la siguiente función acumula los argumentos que se le pasan en subsiguientes llamadas:"
   ],
   "metadata": {}
  },
  {
   "cell_type": "code",
   "execution_count": 48,
   "source": [
    "def f(a, L=[1,2]):\r\n",
    "    L.append(a)\r\n",
    "    return L\r\n",
    "\r\n",
    "\r\n",
    "print(f(1))\r\n",
    "print(f(2))\r\n",
    "print(f(3))\r\n",
    "\r\n"
   ],
   "outputs": [
    {
     "output_type": "stream",
     "name": "stdout",
     "text": [
      "[1, 2, 1]\n",
      "[1, 2, 1, 2]\n",
      "[1, 2, 1, 2, 3]\n"
     ]
    }
   ],
   "metadata": {}
  }
 ],
 "metadata": {
  "kernelspec": {
   "name": "python3",
   "display_name": "Python 3.9.6 64-bit"
  },
  "language_info": {
   "codemirror_mode": {
    "name": "ipython",
    "version": 3
   },
   "file_extension": ".py",
   "mimetype": "text/x-python",
   "name": "python",
   "nbconvert_exporter": "python",
   "pygments_lexer": "ipython3",
   "version": "3.9.6"
  },
  "interpreter": {
   "hash": "0f8d560b4f954a663ef2d2eb0a025ee4f44603e4aca358b90fe4e7eb3bb12b2e"
  }
 },
 "nbformat": 4,
 "nbformat_minor": 2
}