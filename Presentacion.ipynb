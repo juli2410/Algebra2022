{
 "cells": [
  {
   "cell_type": "markdown",
   "id": "8de4a4a7",
   "metadata": {},
   "source": [
    "# Álgebra Lineal computacional \n",
    "Este curso tiene como objetivos \n",
    "* Al finalizar este curso el estudiante debe tener la capacidad de identificar que es un espacio vectorial con norma y establecer algunas de sus implicaciones.\n",
    "* Al finalizar este curso el estudiante debe adquirir la habilidad de programar y entender diferentes algoritmos usados en álgebra lineal computacional. \n",
    "* Programar la solución de diferentes sistemas de ecuaciones usando diferentes métodos numéricos e interpretar su solución. "
   ]
  },
  {
   "cell_type": "markdown",
   "id": "33c84764",
   "metadata": {},
   "source": [
    "## Cápitulos del curso\n",
    "\n",
    "### Capítulo 1 Tolkit (duración 2 semanas)\n",
    "En este cápitulo se estudiarán algunas herramientas básicas para le desarrollo del curso, computacionales y mátematicas\n",
    "* Conceptos básicos de programación PYTHON, jupyter notebook\n",
    "* Vectores, producto entre vectores, espacios vectoriales e euclidianos.\n",
    "\n",
    "### Capítulo 2 (duración 1 semana)\n",
    "Espacios con producto interno, definición. Bases ortogonales en espacios vectoriales con producto interno. $R, C, C[a; b]$, polinomios, espacios de matrices. Espacios Normados en dimensión finita, definición, propiedades. Desigualdad de Cauchy-Schwars, espacios $l_p, L2(Cn[a; b])$. Normas de Matrices, propiedades. Normas inducidas, norma de Frabenius, equivalencia de normas. Cálculo de normas $l_1, l_2$. Equivalencia de Normas. Aplicación ¿Cómo vemos el mundo si cambiamos la métrica?\n",
    "\n",
    "### Capítulo 3 (duración 2 semana)\n",
    "Proyección ortogonal. Subespacios complementarios, descomposición ortogonal, Teorema del rango y nulidad. Factorización QR, algoritmos computacionales: procesos Gram-Schmidt. Aplicación Solución de sistemas Ax=b usando QR.\n",
    "\n",
    "### Capítulo 3 (duración 2 semana)\n",
    "Problema de mínimos cuadrados, rango completo, rango deficiente. Cuadrado mínimo con restricciones. Problema de punto de silla. Método de ecuaciones normales, Soluciones numéricas, Cholesky, gradiente conjugado, factorización QR. Mínimos cuadrados no lineales. Aplicación funcionamiento de los GPS \n",
    "\n",
    "### Capítulo 4 (duración 3 semana)\n",
    "Descomposición en valores singulares, Aplicaciones de la Descomposición en valores singulares, Solución de ecuaciones normales. Aplicación compresión de imágenes. Aplicaciones: PCA, inversa generalizada, proyección en rango y nulidad de una matriz. Aplicación Compresión de imágenes y clasificación de imágenes usando SVD. \n",
    "\n",
    "### Capítulo 5 (duración 3 semana)\n",
    "Autovalores de una matriz. Teorema de los círculos de Gershgorin Algoritmo QR (soluciones reales). Método de las potencias. Descomposición de Shur, Teorema espectral. Aplicación Clasificación de motores de búsqueda "
   ]
  },
  {
   "cell_type": "markdown",
   "id": "d5093ea5",
   "metadata": {},
   "source": [
    "## Bibliografía \n",
    "* Sauer, T. (2011). Numerical analysis. Always learning.\n",
    "\n",
    "* Meyer, C. D. (2000). Matrix analysis and applied linear algebra (Vol. 2). Siam. \n",
    "\n",
    "* Pulino, P. (2012). Algebra Linear e suas Aplicaccoes: Notas de Aula. \n",
    "\n",
    "* Trefethen, L. N., & Bau III, D. (1997). Numerical linear algebra (Vol. 50). Siam.|\n",
    "\n",
    "* Demmel, J. W. (1997). * Applied numerical linear algebra. Society for Industrial and Applied Mathematics Watkins, \n",
    "\n",
    "* David S. Fundamentals of matrix computations. Vol. 64. John Wiley & Sons, 2004.\n"
   ]
  },
  {
   "cell_type": "code",
   "execution_count": null,
   "id": "e485e2e9",
   "metadata": {},
   "outputs": [],
   "source": []
  }
 ],
 "metadata": {
  "kernelspec": {
   "display_name": "Python 3 (ipykernel)",
   "language": "python",
   "name": "python3"
  },
  "language_info": {
   "codemirror_mode": {
    "name": "ipython",
    "version": 3
   },
   "file_extension": ".py",
   "mimetype": "text/x-python",
   "name": "python",
   "nbconvert_exporter": "python",
   "pygments_lexer": "ipython3",
   "version": "3.8.11"
  }
 },
 "nbformat": 4,
 "nbformat_minor": 5
}
